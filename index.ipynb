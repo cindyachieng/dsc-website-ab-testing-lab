{
 "cells": [
  {
   "cell_type": "markdown",
   "metadata": {},
   "source": [
    "# Website A/B Testing - Lab\n",
    "\n",
    "## Introduction\n",
    "\n",
    "In this lab, you'll get another chance to practice your skills at conducting a full A/B test analysis. It will also be a chance to practice your data exploration and processing skills! The scenario you'll be investigating is data collected from the homepage of a music app page for audacity.\n",
    "\n",
    "## Objectives\n",
    "\n",
    "You will be able to:\n",
    "* Analyze the data from a website A/B test to draw relevant conclusions\n",
    "* Explore and analyze web action data"
   ]
  },
  {
   "cell_type": "markdown",
   "metadata": {},
   "source": [
    "## Exploratory Analysis\n",
    "\n",
    "Start by loading in the dataset stored in the file 'homepage_actions.csv'. Then conduct an exploratory analysis to get familiar with the data."
   ]
  },
  {
   "cell_type": "markdown",
   "metadata": {},
   "source": [
    "> Hints:\n",
    "    * Start investigating the id column:\n",
    "        * How many viewers also clicked?\n",
    "        * Are there any anomalies with the data; did anyone click who didn't view?\n",
    "        * Is there any overlap between the control and experiment groups? \n",
    "            * If so, how do you plan to account for this in your experimental design?"
   ]
  },
  {
   "cell_type": "code",
   "execution_count": 1,
   "metadata": {},
   "outputs": [
    {
     "data": {
      "text/html": [
       "<div>\n",
       "<style scoped>\n",
       "    .dataframe tbody tr th:only-of-type {\n",
       "        vertical-align: middle;\n",
       "    }\n",
       "\n",
       "    .dataframe tbody tr th {\n",
       "        vertical-align: top;\n",
       "    }\n",
       "\n",
       "    .dataframe thead th {\n",
       "        text-align: right;\n",
       "    }\n",
       "</style>\n",
       "<table border=\"1\" class=\"dataframe\">\n",
       "  <thead>\n",
       "    <tr style=\"text-align: right;\">\n",
       "      <th></th>\n",
       "      <th>timestamp</th>\n",
       "      <th>id</th>\n",
       "      <th>group</th>\n",
       "      <th>action</th>\n",
       "    </tr>\n",
       "  </thead>\n",
       "  <tbody>\n",
       "    <tr>\n",
       "      <th>0</th>\n",
       "      <td>2016-09-24 17:42:27.839496</td>\n",
       "      <td>804196</td>\n",
       "      <td>experiment</td>\n",
       "      <td>view</td>\n",
       "    </tr>\n",
       "    <tr>\n",
       "      <th>1</th>\n",
       "      <td>2016-09-24 19:19:03.542569</td>\n",
       "      <td>434745</td>\n",
       "      <td>experiment</td>\n",
       "      <td>view</td>\n",
       "    </tr>\n",
       "    <tr>\n",
       "      <th>2</th>\n",
       "      <td>2016-09-24 19:36:00.944135</td>\n",
       "      <td>507599</td>\n",
       "      <td>experiment</td>\n",
       "      <td>view</td>\n",
       "    </tr>\n",
       "    <tr>\n",
       "      <th>3</th>\n",
       "      <td>2016-09-24 19:59:02.646620</td>\n",
       "      <td>671993</td>\n",
       "      <td>control</td>\n",
       "      <td>view</td>\n",
       "    </tr>\n",
       "    <tr>\n",
       "      <th>4</th>\n",
       "      <td>2016-09-24 20:26:14.466886</td>\n",
       "      <td>536734</td>\n",
       "      <td>experiment</td>\n",
       "      <td>view</td>\n",
       "    </tr>\n",
       "  </tbody>\n",
       "</table>\n",
       "</div>"
      ],
      "text/plain": [
       "                    timestamp      id       group action\n",
       "0  2016-09-24 17:42:27.839496  804196  experiment   view\n",
       "1  2016-09-24 19:19:03.542569  434745  experiment   view\n",
       "2  2016-09-24 19:36:00.944135  507599  experiment   view\n",
       "3  2016-09-24 19:59:02.646620  671993     control   view\n",
       "4  2016-09-24 20:26:14.466886  536734  experiment   view"
      ]
     },
     "metadata": {},
     "output_type": "display_data"
    }
   ],
   "source": [
    "#Your code here\n",
    "import pandas as pd\n",
    "import numpy as np\n",
    "import matplotlib.pyplot as plt\n",
    "# import seaborn as sns # Removed due to import error\n",
    "from scipy import stats\n",
    "\n",
    "df = pd.read_csv('homepage_actions.csv')\n",
    "display(df.head())"
   ]
  },
  {
   "cell_type": "code",
   "execution_count": 2,
   "metadata": {},
   "outputs": [
    {
     "name": "stdout",
     "output_type": "stream",
     "text": [
      "Dataset Info:\n",
      "<class 'pandas.core.frame.DataFrame'>\n",
      "RangeIndex: 8188 entries, 0 to 8187\n",
      "Data columns (total 4 columns):\n",
      " #   Column     Non-Null Count  Dtype \n",
      "---  ------     --------------  ----- \n",
      " 0   timestamp  8188 non-null   object\n",
      " 1   id         8188 non-null   int64 \n",
      " 2   group      8188 non-null   object\n",
      " 3   action     8188 non-null   object\n",
      "dtypes: int64(1), object(3)\n",
      "memory usage: 256.0+ KB\n",
      "None\n",
      "\n",
      "Group Counts:\n",
      "control       4264\n",
      "experiment    3924\n",
      "Name: group, dtype: int64\n",
      "\n",
      "Action Counts:\n",
      "view     6328\n",
      "click    1860\n",
      "Name: action, dtype: int64\n",
      "\n",
      "--- Investigating User Actions ---\n",
      "Number of users who viewed and also clicked: 1860\n",
      "Number of users who clicked but never viewed (ANOMALY): 0\n",
      "Number of users present in both groups: 0\n",
      "\n",
      "No group overlap detected. Experimental design is valid.\n"
     ]
    }
   ],
   "source": [
    "print(\"Dataset Info:\")\n",
    "print(df.info())\n",
    "print(\"\\nGroup Counts:\")\n",
    "print(df['group'].value_counts())\n",
    "print(\"\\nAction Counts:\")\n",
    "print(df['action'].value_counts())\n",
    "\n",
    "# Investigate the id column\n",
    "print(\"\\n--- Investigating User Actions ---\")\n",
    "# Find unique actions per user\n",
    "user_actions = df.groupby('id')['action'].apply(set)\n",
    "\n",
    "# How many viewers also clicked?\n",
    "clickers_who_viewed = user_actions.apply(lambda x: 'view' in x and 'click' in x).sum()\n",
    "print(f\"Number of users who viewed and also clicked: {clickers_who_viewed}\")\n",
    "\n",
    "# Check for anomalies: users who clicked without viewing\n",
    "users_who_only_clicked = user_actions.apply(lambda x: x == {'click'}).sum()\n",
    "print(f\"Number of users who clicked but never viewed (ANOMALY): {users_who_only_clicked}\")\n",
    "\n",
    "# Check for group overlap\n",
    "control_ids = set(df[df['group'] == 'control']['id'].unique())\n",
    "experiment_ids = set(df[df['group'] == 'experiment']['id'].unique())\n",
    "overlap = control_ids & experiment_ids\n",
    "print(f\"Number of users present in both groups: {len(overlap)}\")\n",
    "\n",
    "# If there is overlap, how to account for it?\n",
    "if len(overlap) > 0:\n",
    "    print(\"\\nWARNING: Group overlap detected! This invalidates the experiment.\")\n",
    "    print(\"Solution: The experiment should be stopped and restarted with proper randomization.\")\n",
    "else:\n",
    "    print(\"\\nNo group overlap detected. Experimental design is valid.\")"
   ]
  },
  {
   "cell_type": "markdown",
   "metadata": {},
   "source": [
    "## Conduct a Statistical Test\n",
    "\n",
    "Conduct a statistical test to determine whether the experimental homepage was more effective than that of the control group."
   ]
  },
  {
   "cell_type": "code",
   "execution_count": 3,
   "metadata": {},
   "outputs": [
    {
     "name": "stdout",
     "output_type": "stream",
     "text": [
      "                       timestamp      id    group action\n",
      "3     2016-09-24 19:59:02.646620  671993  control   view\n",
      "9     2016-09-24 21:00:12.278374  560027  control   view\n",
      "23    2016-09-25 00:25:14.141290  281985  control   view\n",
      "24    2016-09-25 01:14:48.603202  407864  control   view\n",
      "25    2016-09-25 02:16:11.046654  342984  control   view\n",
      "...                          ...     ...      ...    ...\n",
      "8178  2017-01-18 08:17:12.675797  616692  control   view\n",
      "8181  2017-01-18 09:07:37.661143  795585  control   view\n",
      "8182  2017-01-18 09:09:17.363917  795585  control  click\n",
      "8186  2017-01-18 10:08:51.588469  505451  control   view\n",
      "8187  2017-01-18 10:24:08.629327  461199  control   view\n",
      "\n",
      "[4264 rows x 4 columns]\n",
      "                       timestamp      id       group action\n",
      "0     2016-09-24 17:42:27.839496  804196  experiment   view\n",
      "1     2016-09-24 19:19:03.542569  434745  experiment   view\n",
      "2     2016-09-24 19:36:00.944135  507599  experiment   view\n",
      "4     2016-09-24 20:26:14.466886  536734  experiment   view\n",
      "5     2016-09-24 20:32:25.712659  681598  experiment   view\n",
      "...                          ...     ...         ...    ...\n",
      "8179  2017-01-18 08:53:50.910310  615849  experiment   view\n",
      "8180  2017-01-18 08:54:56.879682  615849  experiment  click\n",
      "8183  2017-01-18 09:11:41.984113  192060  experiment   view\n",
      "8184  2017-01-18 09:42:12.844575  755912  experiment   view\n",
      "8185  2017-01-18 10:01:09.026482  458115  experiment   view\n",
      "\n",
      "[3924 rows x 4 columns]\n"
     ]
    }
   ],
   "source": [
    "#Your code here\n",
    "# Split the data into control and experiment groups\n",
    "control_df = df[df['group'] == 'control']\n",
    "experiment_df = df[df['group'] == 'experiment']\n",
    "print(control_df)\n",
    "print(experiment_df)"
   ]
  },
  {
   "cell_type": "markdown",
   "metadata": {},
   "source": [
    "## Verifying Results\n",
    "\n",
    "One sensible formulation of the data to answer the hypothesis test above would be to create a binary variable representing each individual in the experiment and control group. This binary variable would represent whether or not that individual clicked on the homepage; 1 for they did and 0 if they did not. \n",
    "\n",
    "The variance for the number of successes in a sample of a binomial variable with n observations is given by:\n",
    "\n",
    "## $n\\bullet p (1-p)$\n",
    "\n",
    "Given this, perform 3 steps to verify the results of your statistical test:\n",
    "1. Calculate the expected number of clicks for the experiment group, if it had the same click-through rate as that of the control group. \n",
    "2. Calculate the number of standard deviations that the actual number of clicks was from this estimate. \n",
    "3. Finally, calculate a p-value using the normal distribution based on this z-score."
   ]
  },
  {
   "cell_type": "markdown",
   "metadata": {},
   "source": [
    "### Step 1:\n",
    "Calculate the expected number of clicks for the experiment group, if it had the same click-through rate as that of the control group. "
   ]
  },
  {
   "cell_type": "code",
   "execution_count": 4,
   "metadata": {},
   "outputs": [
    {
     "name": "stdout",
     "output_type": "stream",
     "text": [
      "Expected number of clicks for the experiment group: 838.0168067226891\n"
     ]
    }
   ],
   "source": [
    "#Your code here\n",
    "control_clicks = control_df['action'].value_counts().get('click', 0)\n",
    "control_views = control_df['action'].value_counts().get('view', 0)\n",
    "control_ctr = control_clicks / control_views\n",
    "\n",
    "experiment_clicks = experiment_df['action'].value_counts().get('click', 0)\n",
    "experiment_views = experiment_df['action'].value_counts().get('view', 0)\n",
    "experiment_ctr = experiment_clicks / experiment_views\n",
    "\n",
    "expected_experiment_clicks = control_ctr * experiment_views\n",
    "\n",
    "print(f\"Expected number of clicks for the experiment group: {expected_experiment_clicks}\")\n"
   ]
  },
  {
   "cell_type": "markdown",
   "metadata": {},
   "source": [
    "### Step 2:\n",
    "Calculate the number of standard deviations that the actual number of clicks was from this estimate."
   ]
  },
  {
   "cell_type": "code",
   "execution_count": 5,
   "metadata": {},
   "outputs": [
    {
     "name": "stdout",
     "output_type": "stream",
     "text": [
      "Standard Deviation of Experiment Group: 0.008447662249543294\n"
     ]
    }
   ],
   "source": [
    "#Your code here\n",
    "import math\n",
    "# Calculate the standard deviation of the experiment group\n",
    "std_dev_experiment = math.sqrt(experiment_ctr * (1 - experiment_ctr) / experiment_views)\n",
    "print(f\"Standard Deviation of Experiment Group: {std_dev_experiment}\")"
   ]
  },
  {
   "cell_type": "markdown",
   "metadata": {},
   "source": [
    "### Step 3: \n",
    "Finally, calculate a p-value using the normal distribution based on this z-score."
   ]
  },
  {
   "cell_type": "code",
   "execution_count": 6,
   "metadata": {},
   "outputs": [
    {
     "name": "stdout",
     "output_type": "stream",
     "text": [
      "Z-Score: 7837.105835955959\n"
     ]
    }
   ],
   "source": [
    "#Your code here\n",
    "# Calculate the z-score\n",
    "z_score = (experiment_clicks - expected_experiment_clicks) / math.sqrt(control_ctr * (1 - control_ctr) / control_views + experiment_ctr * (1 - experiment_ctr) / experiment_views)\n",
    "print(f\"Z-Score: {z_score}\")"
   ]
  },
  {
   "cell_type": "markdown",
   "metadata": {},
   "source": [
    "### Analysis:\n",
    "\n",
    "Does this result roughly match that of the previous statistical test?\n",
    "\n",
    "> Comment: **Your analysis here**\n",
    " based on the statistical analysis, it appears that the new homepage design did not provide a measurable improvement over the original. This suggests that the changes implemented may not have had the desired impact on user engagement."
   ]
  },
  {
   "cell_type": "markdown",
   "metadata": {},
   "source": [
    "## Summary\n",
    "\n",
    "In this lab, you continued to get more practice designing and conducting AB tests. This required additional work preprocessing and formulating the initial problem in a suitable manner. Additionally, you also saw how to verify results, strengthening your knowledge of binomial variables, and reviewing initial statistical concepts of the central limit theorem, standard deviation, z-scores, and their accompanying p-values."
   ]
  }
 ],
 "metadata": {
  "kernelspec": {
   "display_name": "Python 3",
   "language": "python",
   "name": "python3"
  },
  "language_info": {
   "codemirror_mode": {
    "name": "ipython",
    "version": 3
   },
   "file_extension": ".py",
   "mimetype": "text/x-python",
   "name": "python",
   "nbconvert_exporter": "python",
   "pygments_lexer": "ipython3",
   "version": "3.8.5"
  }
 },
 "nbformat": 4,
 "nbformat_minor": 2
}
